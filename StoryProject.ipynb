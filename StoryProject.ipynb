{
  "nbformat": 4,
  "nbformat_minor": 0,
  "metadata": {
    "colab": {
      "provenance": [],
      "authorship_tag": "ABX9TyM75w3O0OeSsdMCzr7jeYOS",
      "include_colab_link": true
    },
    "kernelspec": {
      "name": "python3",
      "display_name": "Python 3"
    },
    "language_info": {
      "name": "python"
    }
  },
  "cells": [
    {
      "cell_type": "markdown",
      "metadata": {
        "id": "view-in-github",
        "colab_type": "text"
      },
      "source": [
        "<a href=\"https://colab.research.google.com/github/DaveFlanagan-dev/MySecondRepo/blob/main/StoryProject.ipynb\" target=\"_parent\"><img src=\"https://colab.research.google.com/assets/colab-badge.svg\" alt=\"Open In Colab\"/></a>"
      ]
    },
    {
      "cell_type": "code",
      "execution_count": 2,
      "metadata": {
        "colab": {
          "base_uri": "https://localhost:8080/"
        },
        "id": "911dgXQyDFm9",
        "outputId": "ca71f397-e1ec-4bdc-c4ef-eae326cd7d27"
      },
      "outputs": [
        {
          "output_type": "stream",
          "name": "stdout",
          "text": [
            "Just testing\n",
            "Hello\n"
          ]
        }
      ],
      "source": [
        "# My Second Project\n",
        "print(\"Just testing\")\n",
        "\n",
        "# Make some more addtions to the code\n",
        "print(\"Hello\")"
      ]
    }
  ]
}